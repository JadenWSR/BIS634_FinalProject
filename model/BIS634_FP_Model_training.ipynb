{
  "nbformat": 4,
  "nbformat_minor": 0,
  "metadata": {
    "colab": {
      "provenance": []
    },
    "kernelspec": {
      "name": "python3",
      "display_name": "Python 3"
    },
    "language_info": {
      "name": "python"
    },
    "accelerator": "GPU",
    "gpuClass": "standard"
  },
  "cells": [
    {
      "cell_type": "markdown",
      "source": [
        "# Read the dataset and split training and testing set"
      ],
      "metadata": {
        "id": "NE6SFD-EVgy2"
      }
    },
    {
      "cell_type": "code",
      "execution_count": 1,
      "metadata": {
        "id": "t8k_N_7tVP9M"
      },
      "outputs": [],
      "source": [
        "import pandas as pd\n",
        "\n",
        "data = pd.read_csv('tweet_dataset.csv')"
      ]
    },
    {
      "cell_type": "code",
      "source": [
        "data = data[['text', 'new_sentiment']].dropna()"
      ],
      "metadata": {
        "id": "_cOZ0QipV5V2"
      },
      "execution_count": 2,
      "outputs": []
    },
    {
      "cell_type": "code",
      "source": [
        "data.info()"
      ],
      "metadata": {
        "colab": {
          "base_uri": "https://localhost:8080/"
        },
        "id": "OlMtS9v4V6DI",
        "outputId": "f8743582-05be-474c-bd66-e399f33901be"
      },
      "execution_count": 3,
      "outputs": [
        {
          "output_type": "stream",
          "name": "stdout",
          "text": [
            "<class 'pandas.core.frame.DataFrame'>\n",
            "Int64Index: 31329 entries, 1 to 39999\n",
            "Data columns (total 2 columns):\n",
            " #   Column         Non-Null Count  Dtype \n",
            "---  ------         --------------  ----- \n",
            " 0   text           31329 non-null  object\n",
            " 1   new_sentiment  31329 non-null  object\n",
            "dtypes: object(2)\n",
            "memory usage: 734.3+ KB\n"
          ]
        }
      ]
    },
    {
      "cell_type": "code",
      "source": [
        "pip install transformers"
      ],
      "metadata": {
        "colab": {
          "base_uri": "https://localhost:8080/"
        },
        "id": "8Zt8vUKvWgov",
        "outputId": "1972cd00-00c4-49a8-a02b-17af871ccf5c"
      },
      "execution_count": 4,
      "outputs": [
        {
          "output_type": "stream",
          "name": "stdout",
          "text": [
            "Looking in indexes: https://pypi.org/simple, https://us-python.pkg.dev/colab-wheels/public/simple/\n",
            "Requirement already satisfied: transformers in /usr/local/lib/python3.8/dist-packages (4.25.1)\n",
            "Requirement already satisfied: numpy>=1.17 in /usr/local/lib/python3.8/dist-packages (from transformers) (1.21.6)\n",
            "Requirement already satisfied: requests in /usr/local/lib/python3.8/dist-packages (from transformers) (2.23.0)\n",
            "Requirement already satisfied: tokenizers!=0.11.3,<0.14,>=0.11.1 in /usr/local/lib/python3.8/dist-packages (from transformers) (0.13.2)\n",
            "Requirement already satisfied: regex!=2019.12.17 in /usr/local/lib/python3.8/dist-packages (from transformers) (2022.6.2)\n",
            "Requirement already satisfied: huggingface-hub<1.0,>=0.10.0 in /usr/local/lib/python3.8/dist-packages (from transformers) (0.11.1)\n",
            "Requirement already satisfied: pyyaml>=5.1 in /usr/local/lib/python3.8/dist-packages (from transformers) (6.0)\n",
            "Requirement already satisfied: filelock in /usr/local/lib/python3.8/dist-packages (from transformers) (3.8.0)\n",
            "Requirement already satisfied: packaging>=20.0 in /usr/local/lib/python3.8/dist-packages (from transformers) (21.3)\n",
            "Requirement already satisfied: tqdm>=4.27 in /usr/local/lib/python3.8/dist-packages (from transformers) (4.64.1)\n",
            "Requirement already satisfied: typing-extensions>=3.7.4.3 in /usr/local/lib/python3.8/dist-packages (from huggingface-hub<1.0,>=0.10.0->transformers) (4.4.0)\n",
            "Requirement already satisfied: pyparsing!=3.0.5,>=2.0.2 in /usr/local/lib/python3.8/dist-packages (from packaging>=20.0->transformers) (3.0.9)\n",
            "Requirement already satisfied: certifi>=2017.4.17 in /usr/local/lib/python3.8/dist-packages (from requests->transformers) (2022.9.24)\n",
            "Requirement already satisfied: urllib3!=1.25.0,!=1.25.1,<1.26,>=1.21.1 in /usr/local/lib/python3.8/dist-packages (from requests->transformers) (1.24.3)\n",
            "Requirement already satisfied: chardet<4,>=3.0.2 in /usr/local/lib/python3.8/dist-packages (from requests->transformers) (3.0.4)\n",
            "Requirement already satisfied: idna<3,>=2.5 in /usr/local/lib/python3.8/dist-packages (from requests->transformers) (2.10)\n"
          ]
        }
      ]
    },
    {
      "cell_type": "code",
      "source": [
        "import re\n",
        "import numpy as np\n",
        "import pandas as pd\n",
        "import os, json\n",
        "import torch\n",
        "from sklearn.model_selection import train_test_split\n",
        "import tensorflow as tf\n",
        "import seaborn as sns\n",
        "import matplotlib.pyplot as plt"
      ],
      "metadata": {
        "id": "n8xMAhT6_RU8"
      },
      "execution_count": 5,
      "outputs": []
    },
    {
      "cell_type": "code",
      "source": [
        "import torch\n",
        "\n",
        "if torch.cuda.is_available():    \n",
        "\n",
        "    device = torch.device(\"cuda\")\n",
        "\n",
        "    print('There are %d GPU(s) available.' % torch.cuda.device_count())\n",
        "\n",
        "    print('We will use the GPU:', torch.cuda.get_device_name(0))\n",
        "\n",
        "else:\n",
        "    print('No GPU available, using the CPU instead.')\n",
        "    device = torch.device(\"cpu\")"
      ],
      "metadata": {
        "colab": {
          "base_uri": "https://localhost:8080/"
        },
        "id": "aTzQQ1J__VmT",
        "outputId": "dd7eefab-79fc-4445-abb7-b8ca24926d97"
      },
      "execution_count": 6,
      "outputs": [
        {
          "output_type": "stream",
          "name": "stdout",
          "text": [
            "There are 1 GPU(s) available.\n",
            "We will use the GPU: Tesla T4\n"
          ]
        }
      ]
    },
    {
      "cell_type": "markdown",
      "source": [
        "## BERT pretraining model\n",
        "BERT (Pre-training of Deep Bidirectional Transformers for Language Understanding) introduced the method of pre-training language representations on a large text corpus and then using that model for downstream NLP tasks.\n",
        "\n",
        "I will build a model to pretrain BERT on the masked language modeling task and next sentence prediction task.\n",
        "\n",
        "Build a BertPretrainer model wrapping BertEncoder\n",
        "The nlp.networks.BertEncoder class implements the Transformer-based encoder as described in BERT paper. It includes the embedding lookups and transformer layers (nlp.layers.TransformerEncoderBlock), but not the masked language model or classification task networks.\n",
        "\n",
        "The nlp.models.BertPretrainer class allows a user to pass in a transformer stack, and instantiates the masked language model and classification networks that are used to create the training objectives."
      ],
      "metadata": {
        "id": "uuubZvfMaTTM"
      }
    },
    {
      "cell_type": "markdown",
      "source": [
        "## Import the BERT tokenizer"
      ],
      "metadata": {
        "id": "4sFFD-FSAGGm"
      }
    },
    {
      "cell_type": "code",
      "source": [
        "from transformers import BertTokenizer\n",
        "\n",
        "print('Loading BERT tokenizer...')\n",
        "tokenizer = BertTokenizer.from_pretrained('bert-base-uncased', do_lower_case=True)"
      ],
      "metadata": {
        "colab": {
          "base_uri": "https://localhost:8080/"
        },
        "id": "FvvxlmKDAFfA",
        "outputId": "22152c06-7db6-4807-daeb-cdd27c8d5342"
      },
      "execution_count": 7,
      "outputs": [
        {
          "output_type": "stream",
          "name": "stdout",
          "text": [
            "Loading BERT tokenizer...\n"
          ]
        }
      ]
    },
    {
      "cell_type": "code",
      "source": [
        "print(tokenizer.tokenize(\"Hello. This is a sample statement for visualisation purposes\"))"
      ],
      "metadata": {
        "colab": {
          "base_uri": "https://localhost:8080/"
        },
        "id": "S6x-U5cvANsW",
        "outputId": "611a6c59-9040-4996-89c9-c6f1b31387b8"
      },
      "execution_count": 8,
      "outputs": [
        {
          "output_type": "stream",
          "name": "stdout",
          "text": [
            "['hello', '.', 'this', 'is', 'a', 'sample', 'statement', 'for', 'visual', '##isation', 'purposes']\n"
          ]
        }
      ]
    },
    {
      "cell_type": "code",
      "source": [
        "print(tokenizer.convert_tokens_to_ids(tokenizer.tokenize(\"Hello. This is a sample statement for visualisation purposes\")))"
      ],
      "metadata": {
        "colab": {
          "base_uri": "https://localhost:8080/"
        },
        "id": "GBXxhqWcARJf",
        "outputId": "262edc70-a283-430a-e564-6e646a98485d"
      },
      "execution_count": 9,
      "outputs": [
        {
          "output_type": "stream",
          "name": "stdout",
          "text": [
            "[7592, 1012, 2023, 2003, 1037, 7099, 4861, 2005, 5107, 6648, 5682]\n"
          ]
        }
      ]
    },
    {
      "cell_type": "code",
      "source": [
        "data['new_sentiment'] = data['new_sentiment'].replace(['negative', 'neutral', 'positive'], [0, 1, 2])"
      ],
      "metadata": {
        "id": "kUH-h5v4WGaI"
      },
      "execution_count": 10,
      "outputs": []
    },
    {
      "cell_type": "code",
      "source": [
        "data.head()"
      ],
      "metadata": {
        "colab": {
          "base_uri": "https://localhost:8080/",
          "height": 206
        },
        "id": "QNX5m6hR_7v6",
        "outputId": "90d88e87-edb1-4dbb-d317-bff5bd5e1488"
      },
      "execution_count": 11,
      "outputs": [
        {
          "output_type": "execute_result",
          "data": {
            "text/plain": [
              "                                                text  new_sentiment\n",
              "1  Layin n bed with a headache  ughhhh...waitin o...              0\n",
              "2                Funeral ceremony...gloomy friday...              0\n",
              "3               wants to hang out with friends SOON!              2\n",
              "4   We want to trade with someone who has Houston...              1\n",
              "5  Re-pinging : why didn`t you go to prom? BC my ...              0"
            ],
            "text/html": [
              "\n",
              "  <div id=\"df-54a979aa-8697-46f0-b87d-3883d3ce135a\">\n",
              "    <div class=\"colab-df-container\">\n",
              "      <div>\n",
              "<style scoped>\n",
              "    .dataframe tbody tr th:only-of-type {\n",
              "        vertical-align: middle;\n",
              "    }\n",
              "\n",
              "    .dataframe tbody tr th {\n",
              "        vertical-align: top;\n",
              "    }\n",
              "\n",
              "    .dataframe thead th {\n",
              "        text-align: right;\n",
              "    }\n",
              "</style>\n",
              "<table border=\"1\" class=\"dataframe\">\n",
              "  <thead>\n",
              "    <tr style=\"text-align: right;\">\n",
              "      <th></th>\n",
              "      <th>text</th>\n",
              "      <th>new_sentiment</th>\n",
              "    </tr>\n",
              "  </thead>\n",
              "  <tbody>\n",
              "    <tr>\n",
              "      <th>1</th>\n",
              "      <td>Layin n bed with a headache  ughhhh...waitin o...</td>\n",
              "      <td>0</td>\n",
              "    </tr>\n",
              "    <tr>\n",
              "      <th>2</th>\n",
              "      <td>Funeral ceremony...gloomy friday...</td>\n",
              "      <td>0</td>\n",
              "    </tr>\n",
              "    <tr>\n",
              "      <th>3</th>\n",
              "      <td>wants to hang out with friends SOON!</td>\n",
              "      <td>2</td>\n",
              "    </tr>\n",
              "    <tr>\n",
              "      <th>4</th>\n",
              "      <td>We want to trade with someone who has Houston...</td>\n",
              "      <td>1</td>\n",
              "    </tr>\n",
              "    <tr>\n",
              "      <th>5</th>\n",
              "      <td>Re-pinging : why didn`t you go to prom? BC my ...</td>\n",
              "      <td>0</td>\n",
              "    </tr>\n",
              "  </tbody>\n",
              "</table>\n",
              "</div>\n",
              "      <button class=\"colab-df-convert\" onclick=\"convertToInteractive('df-54a979aa-8697-46f0-b87d-3883d3ce135a')\"\n",
              "              title=\"Convert this dataframe to an interactive table.\"\n",
              "              style=\"display:none;\">\n",
              "        \n",
              "  <svg xmlns=\"http://www.w3.org/2000/svg\" height=\"24px\"viewBox=\"0 0 24 24\"\n",
              "       width=\"24px\">\n",
              "    <path d=\"M0 0h24v24H0V0z\" fill=\"none\"/>\n",
              "    <path d=\"M18.56 5.44l.94 2.06.94-2.06 2.06-.94-2.06-.94-.94-2.06-.94 2.06-2.06.94zm-11 1L8.5 8.5l.94-2.06 2.06-.94-2.06-.94L8.5 2.5l-.94 2.06-2.06.94zm10 10l.94 2.06.94-2.06 2.06-.94-2.06-.94-.94-2.06-.94 2.06-2.06.94z\"/><path d=\"M17.41 7.96l-1.37-1.37c-.4-.4-.92-.59-1.43-.59-.52 0-1.04.2-1.43.59L10.3 9.45l-7.72 7.72c-.78.78-.78 2.05 0 2.83L4 21.41c.39.39.9.59 1.41.59.51 0 1.02-.2 1.41-.59l7.78-7.78 2.81-2.81c.8-.78.8-2.07 0-2.86zM5.41 20L4 18.59l7.72-7.72 1.47 1.35L5.41 20z\"/>\n",
              "  </svg>\n",
              "      </button>\n",
              "      \n",
              "  <style>\n",
              "    .colab-df-container {\n",
              "      display:flex;\n",
              "      flex-wrap:wrap;\n",
              "      gap: 12px;\n",
              "    }\n",
              "\n",
              "    .colab-df-convert {\n",
              "      background-color: #E8F0FE;\n",
              "      border: none;\n",
              "      border-radius: 50%;\n",
              "      cursor: pointer;\n",
              "      display: none;\n",
              "      fill: #1967D2;\n",
              "      height: 32px;\n",
              "      padding: 0 0 0 0;\n",
              "      width: 32px;\n",
              "    }\n",
              "\n",
              "    .colab-df-convert:hover {\n",
              "      background-color: #E2EBFA;\n",
              "      box-shadow: 0px 1px 2px rgba(60, 64, 67, 0.3), 0px 1px 3px 1px rgba(60, 64, 67, 0.15);\n",
              "      fill: #174EA6;\n",
              "    }\n",
              "\n",
              "    [theme=dark] .colab-df-convert {\n",
              "      background-color: #3B4455;\n",
              "      fill: #D2E3FC;\n",
              "    }\n",
              "\n",
              "    [theme=dark] .colab-df-convert:hover {\n",
              "      background-color: #434B5C;\n",
              "      box-shadow: 0px 1px 3px 1px rgba(0, 0, 0, 0.15);\n",
              "      filter: drop-shadow(0px 1px 2px rgba(0, 0, 0, 0.3));\n",
              "      fill: #FFFFFF;\n",
              "    }\n",
              "  </style>\n",
              "\n",
              "      <script>\n",
              "        const buttonEl =\n",
              "          document.querySelector('#df-54a979aa-8697-46f0-b87d-3883d3ce135a button.colab-df-convert');\n",
              "        buttonEl.style.display =\n",
              "          google.colab.kernel.accessAllowed ? 'block' : 'none';\n",
              "\n",
              "        async function convertToInteractive(key) {\n",
              "          const element = document.querySelector('#df-54a979aa-8697-46f0-b87d-3883d3ce135a');\n",
              "          const dataTable =\n",
              "            await google.colab.kernel.invokeFunction('convertToInteractive',\n",
              "                                                     [key], {});\n",
              "          if (!dataTable) return;\n",
              "\n",
              "          const docLinkHtml = 'Like what you see? Visit the ' +\n",
              "            '<a target=\"_blank\" href=https://colab.research.google.com/notebooks/data_table.ipynb>data table notebook</a>'\n",
              "            + ' to learn more about interactive tables.';\n",
              "          element.innerHTML = '';\n",
              "          dataTable['output_type'] = 'display_data';\n",
              "          await google.colab.output.renderOutput(dataTable, element);\n",
              "          const docLink = document.createElement('div');\n",
              "          docLink.innerHTML = docLinkHtml;\n",
              "          element.appendChild(docLink);\n",
              "        }\n",
              "      </script>\n",
              "    </div>\n",
              "  </div>\n",
              "  "
            ]
          },
          "metadata": {},
          "execution_count": 11
        }
      ]
    },
    {
      "cell_type": "markdown",
      "source": [
        "## Pre-processing the data"
      ],
      "metadata": {
        "id": "yCeZ2lQfAoKT"
      }
    },
    {
      "cell_type": "code",
      "source": [
        "max_len = 0\n",
        "\n",
        "\n",
        "for tweet in data['text']:\n",
        "    \n",
        "    # The following code is used to clean the tweets by removing URLs, accounts, quotation marks,etc\n",
        "    url_pattern = re.compile(r'https?://\\S+|www\\.\\S+')\n",
        "    tweet = url_pattern.sub(r'', tweet)\n",
        "    tweet = re.sub('\\S*@\\S*\\s?', '', tweet)\n",
        "    tweet = re.sub('\\s+', ' ', tweet)\n",
        "    tweet = re.sub(\"\\'\", \"\", tweet)\n",
        "\n",
        "    input_ids = tokenizer.encode(tweet, add_special_tokens=True)\n",
        "\n",
        "    max_len = max(max_len, len(input_ids))        #maximum length of input ids\n",
        "\n",
        "print('Max sequence length: ', max_len)"
      ],
      "metadata": {
        "colab": {
          "base_uri": "https://localhost:8080/"
        },
        "id": "bTHmbTp2Anfh",
        "outputId": "4107ecdf-8fd2-4aa5-a6cc-4258d1c286a6"
      },
      "execution_count": 12,
      "outputs": [
        {
          "output_type": "stream",
          "name": "stdout",
          "text": [
            "Max sequence length:  110\n"
          ]
        }
      ]
    },
    {
      "cell_type": "code",
      "source": [
        "input_ids = []\n",
        "attention_masks = []\n",
        "\n",
        "for sent in data['text']:\n",
        "    \n",
        "    encoded_dict = tokenizer.encode_plus(\n",
        "                        sent,                      \n",
        "                        add_special_tokens = True, \n",
        "                        max_length = 110,           \n",
        "                        pad_to_max_length = True,\n",
        "                        return_attention_mask = True,   \n",
        "                        return_tensors = 'pt',     \n",
        "                   )\n",
        "     \n",
        "    input_ids.append(encoded_dict['input_ids'])\n",
        "    attention_masks.append(encoded_dict['attention_mask'])\n",
        "\n",
        "\n",
        "input_ids = torch.cat(input_ids, dim=0)\n",
        "attention_masks = torch.cat(attention_masks, dim=0)\n",
        "labels = torch.tensor(data['new_sentiment'].tolist())"
      ],
      "metadata": {
        "colab": {
          "base_uri": "https://localhost:8080/"
        },
        "id": "7yV1y8ueAyWs",
        "outputId": "c281f592-e9fa-40e8-9409-94062ccc65dc"
      },
      "execution_count": 13,
      "outputs": [
        {
          "output_type": "stream",
          "name": "stderr",
          "text": [
            "Truncation was not explicitly activated but `max_length` is provided a specific value, please use `truncation=True` to explicitly truncate examples to max length. Defaulting to 'longest_first' truncation strategy. If you encode pairs of sequences (GLUE-style) with the tokenizer you can select this strategy more precisely by providing a specific strategy to `truncation`.\n",
            "/usr/local/lib/python3.8/dist-packages/transformers/tokenization_utils_base.py:2336: FutureWarning: The `pad_to_max_length` argument is deprecated and will be removed in a future version, use `padding=True` or `padding='longest'` to pad to the longest sequence in the batch, or use `padding='max_length'` to pad to a max length. In this case, you can give a specific length with `max_length` (e.g. `max_length=45`) or leave max_length to None to pad to the maximal input size of the model (e.g. 512 for Bert).\n",
            "  warnings.warn(\n"
          ]
        }
      ]
    },
    {
      "cell_type": "code",
      "source": [
        "from torch.utils.data import TensorDataset, random_split\n",
        "\n",
        "dataset = TensorDataset(input_ids, attention_masks, labels)  #storing the input ids,masks and labels in dataset\n",
        "\n",
        "train_size = int(0.9 * len(dataset))\n",
        "val_size = len(dataset) - train_size\n",
        "\n",
        "train_dataset, val_dataset = random_split(dataset, [train_size, val_size])  #90-10 train-val split"
      ],
      "metadata": {
        "id": "emxksnOZBFNO"
      },
      "execution_count": 14,
      "outputs": []
    },
    {
      "cell_type": "code",
      "source": [
        "from torch.utils.data import DataLoader, RandomSampler, SequentialSampler\n",
        "\n",
        "\n",
        "batch_size = 32\n",
        "\n",
        "train_dataloader = DataLoader(\n",
        "            train_dataset,  \n",
        "            sampler = RandomSampler(train_dataset),     #random sampling in training\n",
        "            batch_size = batch_size \n",
        "        )\n",
        "\n",
        "validation_dataloader = DataLoader(\n",
        "            val_dataset, \n",
        "            sampler = SequentialSampler(val_dataset),    #sequential sampling in validation\n",
        "            batch_size = batch_size \n",
        "        )"
      ],
      "metadata": {
        "id": "2XTh-Hf8BVQ5"
      },
      "execution_count": 15,
      "outputs": []
    },
    {
      "cell_type": "code",
      "source": [
        "from transformers import BertForSequenceClassification, AdamW, BertConfig\n",
        "\n",
        "\n",
        "model = BertForSequenceClassification.from_pretrained(\n",
        "    \"bert-base-uncased\", \n",
        "    num_labels = 3,   \n",
        "    output_attentions = False,\n",
        "    output_hidden_states = False,\n",
        ")"
      ],
      "metadata": {
        "colab": {
          "base_uri": "https://localhost:8080/"
        },
        "id": "oPW7Y5OKBah7",
        "outputId": "0233ec3d-4757-48f0-88b8-a2d012e2a73d"
      },
      "execution_count": 16,
      "outputs": [
        {
          "output_type": "stream",
          "name": "stderr",
          "text": [
            "Some weights of the model checkpoint at bert-base-uncased were not used when initializing BertForSequenceClassification: ['cls.predictions.transform.LayerNorm.bias', 'cls.predictions.transform.dense.weight', 'cls.predictions.decoder.weight', 'cls.seq_relationship.bias', 'cls.predictions.bias', 'cls.predictions.transform.LayerNorm.weight', 'cls.predictions.transform.dense.bias', 'cls.seq_relationship.weight']\n",
            "- This IS expected if you are initializing BertForSequenceClassification from the checkpoint of a model trained on another task or with another architecture (e.g. initializing a BertForSequenceClassification model from a BertForPreTraining model).\n",
            "- This IS NOT expected if you are initializing BertForSequenceClassification from the checkpoint of a model that you expect to be exactly identical (initializing a BertForSequenceClassification model from a BertForSequenceClassification model).\n",
            "Some weights of BertForSequenceClassification were not initialized from the model checkpoint at bert-base-uncased and are newly initialized: ['classifier.bias', 'classifier.weight']\n",
            "You should probably TRAIN this model on a down-stream task to be able to use it for predictions and inference.\n"
          ]
        }
      ]
    },
    {
      "cell_type": "code",
      "source": [
        "optimizer = AdamW(model.parameters(),\n",
        "                  lr = 2e-5, \n",
        "                  eps = 1e-8\n",
        "                )"
      ],
      "metadata": {
        "colab": {
          "base_uri": "https://localhost:8080/"
        },
        "id": "A-h-EhbJaNUO",
        "outputId": "6838da4b-04ca-4e40-ef5f-6edb51a94d27"
      },
      "execution_count": 17,
      "outputs": [
        {
          "output_type": "stream",
          "name": "stderr",
          "text": [
            "/usr/local/lib/python3.8/dist-packages/transformers/optimization.py:306: FutureWarning: This implementation of AdamW is deprecated and will be removed in a future version. Use the PyTorch implementation torch.optim.AdamW instead, or set `no_deprecation_warning=True` to disable this warning\n",
            "  warnings.warn(\n"
          ]
        }
      ]
    },
    {
      "cell_type": "code",
      "source": [
        "from transformers import get_linear_schedule_with_warmup\n",
        "\n",
        "epochs = 4\n",
        "\n",
        "\n",
        "total_steps = len(train_dataloader) * epochs\n",
        "\n",
        "scheduler = get_linear_schedule_with_warmup(optimizer, \n",
        "                                            num_warmup_steps = 0, \n",
        "                                            num_training_steps = total_steps)"
      ],
      "metadata": {
        "id": "7VAYzf_eBmEX"
      },
      "execution_count": 18,
      "outputs": []
    },
    {
      "cell_type": "code",
      "source": [
        "import numpy as np\n",
        "\n",
        "def flat_accuracy(preds, labels):\n",
        "    pred_flat = np.argmax(preds, axis=1).flatten()\n",
        "    labels_flat = labels.flatten()\n",
        "    return np.sum(pred_flat == labels_flat) / len(labels_flat)"
      ],
      "metadata": {
        "id": "pyBvoWjLBpo4"
      },
      "execution_count": 19,
      "outputs": []
    },
    {
      "cell_type": "code",
      "source": [
        "import time\n",
        "import datetime\n",
        "\n",
        "def format_time(elapsed):\n",
        "    '''\n",
        "    Takes a time in seconds and returns a string hh:mm:ss\n",
        "    '''\n",
        "    elapsed_rounded = int(round((elapsed)))\n",
        "    \n",
        "    return str(datetime.timedelta(seconds=elapsed_rounded))"
      ],
      "metadata": {
        "id": "lz6XKcMeBrtH"
      },
      "execution_count": 20,
      "outputs": []
    },
    {
      "cell_type": "code",
      "source": [
        "import random\n",
        "import numpy as np\n",
        "\n",
        "\n",
        "seed_val = 55\n",
        "epochs=1\n",
        "\n",
        "random.seed(seed_val)\n",
        "np.random.seed(seed_val)\n",
        "torch.manual_seed(seed_val)\n",
        "torch.cuda.manual_seed_all(seed_val)\n",
        "\n",
        "model.to(device)\n",
        "\n",
        "\n",
        "training_stats = []\n",
        "\n",
        "total_t0 = time.time()\n",
        "\n",
        "y_pred = []\n",
        "y_true =[]\n",
        "\n",
        "for epoch_i in range(0, epochs):\n",
        "    \n",
        "    print(\"\")\n",
        "    print('======== Epoch {:} / {:} ========'.format(epoch_i + 1, epochs))\n",
        "    print('Training...')\n",
        "\n",
        "    t0 = time.time()\n",
        "\n",
        "    total_train_loss = 0\n",
        "    total_train_accuracy = 0\n",
        "    model.train()\n",
        "    train_accuracy = []\n",
        "    for step, batch in enumerate(train_dataloader):\n",
        "        \n",
        "        # Printing the progress after every 40 epochs\n",
        "        if step % 40 == 0 and not step == 0:\n",
        "            \n",
        "            elapsed = format_time(time.time() - t0)\n",
        "            \n",
        "            print('  Batch {:>5,}  of  {:>5,}.    Elapsed: {:}.'.format(step, len(train_dataloader), elapsed))\n",
        "\n",
        "        b_input_ids = batch[0].to(device)\n",
        "        b_input_mask = batch[1].to(device)\n",
        "        b_labels = batch[2].to(device)\n",
        "\n",
        "        model.zero_grad()        \n",
        "\n",
        "        result = model(b_input_ids, \n",
        "                       token_type_ids=None, \n",
        "                       attention_mask=b_input_mask, \n",
        "                       labels=b_labels,\n",
        "                       return_dict=True)\n",
        "\n",
        "        loss = result.loss\n",
        "        logits = result.logits\n",
        "\n",
        "        total_train_loss += loss.item()\n",
        "\n",
        "        loss.backward()\n",
        "        torch.nn.utils.clip_grad_norm_(model.parameters(), 1.0)\n",
        "\n",
        "        optimizer.step()\n",
        "        scheduler.step()\n",
        "        logits = logits.detach().cpu().numpy()\n",
        "        \n",
        "        label_ids = b_labels.to('cpu').numpy()\n",
        "\n",
        "        train_accuracy.append(flat_accuracy(logits, label_ids))\n",
        "        total_train_accuracy += flat_accuracy(logits, label_ids)\n",
        "        \n",
        "    avg_train_accuracy = total_train_accuracy / len(train_dataloader)\n",
        "    print(\"Train Accuracy: {0:.2f}\".format(avg_train_accuracy))\n",
        "\n",
        "    avg_train_loss = total_train_loss / len(train_dataloader)            \n",
        "\n",
        "    training_time = format_time(time.time() - t0)\n",
        "\n",
        "    print(\"\")\n",
        "    print(\"  Average training loss: {0:.2f}\".format(avg_train_loss))\n",
        "    print(\"  Training epcoh took: {:}\".format(training_time))\n",
        "        \n",
        "    # ========================================\n",
        "    #               Validation\n",
        "    # ========================================\n",
        "\n",
        "    print(\"\")\n",
        "    print(\"Running Validation...\")\n",
        "\n",
        "    t0 = time.time()\n",
        "\n",
        "    model.eval()\n",
        "\n",
        "    total_eval_accuracy = 0\n",
        "    total_eval_loss = 0\n",
        "    nb_eval_steps = 0\n",
        "\n",
        "    val_accuracy=[]\n",
        "    for batch in validation_dataloader:\n",
        "\n",
        "        b_input_ids = batch[0].to(device)\n",
        "        b_input_mask = batch[1].to(device)\n",
        "        b_labels = batch[2].to(device)\n",
        "\n",
        "        with torch.no_grad():        \n",
        "\n",
        "            result = model(b_input_ids, \n",
        "                           token_type_ids=None, \n",
        "                           attention_mask=b_input_mask,\n",
        "                           labels=b_labels,\n",
        "                           return_dict=True)\n",
        "\n",
        "        loss = result.loss\n",
        "        logits = result.logits\n",
        "            \n",
        "        total_eval_loss += loss.item()\n",
        "\n",
        "        logits = logits.detach().cpu().numpy()\n",
        "        output = np.argmax(logits, axis=1).flatten()\n",
        "        y_pred.extend(output) # Save Prediction\n",
        "\n",
        "\n",
        "        label_ids = b_labels.to('cpu').numpy()\n",
        "        y_true.extend(label_ids)\n",
        "        val_accuracy.append(flat_accuracy(logits, label_ids))\n",
        "        total_eval_accuracy += flat_accuracy(logits, label_ids)\n",
        "        \n",
        "    avg_val_accuracy = total_eval_accuracy / len(validation_dataloader)\n",
        "    print(\"  Accuracy: {0:.2f}\".format(avg_val_accuracy))\n",
        "\n",
        "    avg_val_loss = total_eval_loss / len(validation_dataloader)\n",
        "\n",
        "    validation_time = format_time(time.time() - t0)\n",
        "    \n",
        "    print(\"  Validation Loss: {0:.2f}\".format(avg_val_loss))\n",
        "    print(\"  Validation took: {:}\".format(validation_time))\n",
        "\n",
        "    training_stats.append(\n",
        "        {\n",
        "            'epoch': epoch_i + 1,\n",
        "            'Training Accur.':avg_train_accuracy,\n",
        "            'Training Loss': avg_train_loss,\n",
        "            'Valid. Loss': avg_val_loss,\n",
        "            'Valid. Accur.': avg_val_accuracy,\n",
        "            'Training Time': training_time,\n",
        "            'Validation Time': validation_time\n",
        "        }\n",
        "    )\n",
        "\n",
        "print(\"\")\n",
        "print(\"Training complete!\")\n",
        "\n",
        "print(\"Total training took {:} (h:mm:ss)\".format(format_time(time.time()-total_t0)))"
      ],
      "metadata": {
        "colab": {
          "base_uri": "https://localhost:8080/"
        },
        "id": "tWfHvZFcBtVc",
        "outputId": "4b8e2a2e-40dc-484f-ac00-b492c7d6df52"
      },
      "execution_count": 21,
      "outputs": [
        {
          "output_type": "stream",
          "name": "stdout",
          "text": [
            "\n",
            "======== Epoch 1 / 1 ========\n",
            "Training...\n",
            "  Batch    40  of    882.    Elapsed: 0:00:22.\n",
            "  Batch    80  of    882.    Elapsed: 0:00:44.\n",
            "  Batch   120  of    882.    Elapsed: 0:01:07.\n",
            "  Batch   160  of    882.    Elapsed: 0:01:29.\n",
            "  Batch   200  of    882.    Elapsed: 0:01:51.\n",
            "  Batch   240  of    882.    Elapsed: 0:02:14.\n",
            "  Batch   280  of    882.    Elapsed: 0:02:36.\n",
            "  Batch   320  of    882.    Elapsed: 0:02:58.\n",
            "  Batch   360  of    882.    Elapsed: 0:03:20.\n",
            "  Batch   400  of    882.    Elapsed: 0:03:43.\n",
            "  Batch   440  of    882.    Elapsed: 0:04:05.\n",
            "  Batch   480  of    882.    Elapsed: 0:04:27.\n",
            "  Batch   520  of    882.    Elapsed: 0:04:50.\n",
            "  Batch   560  of    882.    Elapsed: 0:05:12.\n",
            "  Batch   600  of    882.    Elapsed: 0:05:34.\n",
            "  Batch   640  of    882.    Elapsed: 0:05:57.\n",
            "  Batch   680  of    882.    Elapsed: 0:06:19.\n",
            "  Batch   720  of    882.    Elapsed: 0:06:41.\n",
            "  Batch   760  of    882.    Elapsed: 0:07:03.\n",
            "  Batch   800  of    882.    Elapsed: 0:07:26.\n",
            "  Batch   840  of    882.    Elapsed: 0:07:48.\n",
            "  Batch   880  of    882.    Elapsed: 0:08:10.\n",
            "Train Accuracy: 0.75\n",
            "\n",
            "  Average training loss: 0.59\n",
            "  Training epcoh took: 0:08:11\n",
            "\n",
            "Running Validation...\n",
            "  Accuracy: 0.81\n",
            "  Validation Loss: 0.48\n",
            "  Validation took: 0:00:19\n",
            "\n",
            "Training complete!\n",
            "Total training took 0:08:30 (h:mm:ss)\n"
          ]
        }
      ]
    },
    {
      "cell_type": "code",
      "source": [
        "training_stats"
      ],
      "metadata": {
        "colab": {
          "base_uri": "https://localhost:8080/"
        },
        "id": "AFXLhsC9GNvj",
        "outputId": "840d6add-dd37-47cc-de4e-59a82567f97f"
      },
      "execution_count": 22,
      "outputs": [
        {
          "output_type": "execute_result",
          "data": {
            "text/plain": [
              "[{'epoch': 1,\n",
              "  'Training Accur.': 0.7499291383219955,\n",
              "  'Training Loss': 0.592597852488494,\n",
              "  'Valid. Loss': 0.47734169418714484,\n",
              "  'Valid. Accur.': 0.8053527445460943,\n",
              "  'Training Time': '0:08:11',\n",
              "  'Validation Time': '0:00:19'}]"
            ]
          },
          "metadata": {},
          "execution_count": 22
        }
      ]
    },
    {
      "cell_type": "code",
      "source": [
        "from matplotlib import pyplot as plt \n",
        "import seaborn as sns\n",
        "from sklearn.metrics import confusion_matrix \n",
        "\n",
        "CLASS_LABELS  = ['Negative', 'Neutral', 'Positive']\n",
        "cm_data = confusion_matrix(y_true , y_pred)\n",
        "cm = pd.DataFrame(cm_data, columns=CLASS_LABELS, index = CLASS_LABELS)\n",
        "cm.index.name = 'Actual'\n",
        "cm.columns.name = 'Predicted'\n",
        "plt.figure(figsize = (10,10))\n",
        "plt.title('Confusion Matrix', fontsize = 20)\n",
        "ax = sns.heatmap(cm, cbar=False, cmap=\"Blues\", annot=True, annot_kws={\"size\": 16}, fmt='g')"
      ],
      "metadata": {
        "colab": {
          "base_uri": "https://localhost:8080/",
          "height": 641
        },
        "id": "tstL1WNCA46v",
        "outputId": "d1d6e06d-a355-4f51-a6a4-7ce4fd734fe0"
      },
      "execution_count": 44,
      "outputs": [
        {
          "output_type": "display_data",
          "data": {
            "text/plain": [
              "<Figure size 720x720 with 1 Axes>"
            ],
            "image/png": "[encoded data removed]"
          },
          "metadata": {}
        }
      ]
    },
    {
      "cell_type": "code",
      "source": [
        "torch.save(model.state_dict(), 'checkpoint.pth')"
      ],
      "metadata": {
        "id": "8o5X5WrHQK6c"
      },
      "execution_count": 26,
      "outputs": []
    },
    {
      "cell_type": "code",
      "source": [
        "df_vax = pd.read_csv('vaccination_all_tweets.csv')\n",
        "df_vax=df_vax.dropna()\n",
        "df_vax"
      ],
      "metadata": {
        "colab": {
          "base_uri": "https://localhost:8080/",
          "height": 1000
        },
        "id": "IIK4q12I7osr",
        "outputId": "23419b40-2c0d-46d6-a171-4afd744da67b"
      },
      "execution_count": 45,
      "outputs": [
        {
          "output_type": "execute_result",
          "data": {
            "text/plain": [
              "                         id          user_name                user_location  \\\n",
              "0       1340539111971516416         Rachel Roh    La Crescenta-Montrose, CA   \n",
              "2       1337858199140118533           eli🇱🇹🇪🇺👌                     Your Bed   \n",
              "6       1337851215875608579  Gunther Fehlinger  Austria, Ukraine and Kosovo   \n",
              "9       1337842295857623042       Ch.Amjad Ali                    Islamabad   \n",
              "10      1337841934170255365        Tamer Yazar                Turkey-Israel   \n",
              "...                     ...                ...                          ...   \n",
              "228202  1460170772299665408             VaxBLR             Bengaluru, India   \n",
              "228203  1460163268262051841             VaxBLR             Bengaluru, India   \n",
              "228204  1460163224221851655             VaxBLR             Bengaluru, India   \n",
              "228205  1460156376995573765   Gatti Valentino🐾            Southern  Africa    \n",
              "228206  1460155671140134912             VaxBLR             Bengaluru, India   \n",
              "\n",
              "                                         user_description  \\\n",
              "0       Aggregator of Asian American news; scanning di...   \n",
              "2                                          heil, hydra 🖐☺   \n",
              "6       End North Stream 2 now - the pipeline of corru...   \n",
              "9       #ProudPakistani #LovePakArmy #PMIK @insafiansp...   \n",
              "10      Im Market Analyst, also Editor... working (fre...   \n",
              "...                                                   ...   \n",
              "228202  Hourly updates on FREE and PAID 18+ and 45+ va...   \n",
              "228203  Hourly updates on FREE and PAID 18+ and 45+ va...   \n",
              "228204  Hourly updates on FREE and PAID 18+ and 45+ va...   \n",
              "228205  Entrepreneur, self taught cook🍲🌮 @Chelsea @Fer...   \n",
              "228206  Hourly updates on FREE and PAID 18+ and 45+ va...   \n",
              "\n",
              "               user_created  user_followers  user_friends  user_favourites  \\\n",
              "0       2009-04-08 17:52:46             405          1692             3247   \n",
              "2       2020-06-25 23:30:28              10            88              155   \n",
              "6       2013-06-10 17:49:22            2731          5001            69344   \n",
              "9       2012-11-12 04:18:12             671          2368            20469   \n",
              "10      2009-09-17 16:45:16            1302            78              339   \n",
              "...                     ...             ...           ...              ...   \n",
              "228202  2021-06-21 08:44:34              31             0                0   \n",
              "228203  2021-06-21 08:44:34              31             0                0   \n",
              "228204  2021-06-21 08:44:34              31             0                0   \n",
              "228205  2019-08-28 10:31:43            8103          3113            45726   \n",
              "228206  2021-06-21 08:44:34              31             0                0   \n",
              "\n",
              "        user_verified                 date  \\\n",
              "0               False  2020-12-20 06:06:44   \n",
              "2               False  2020-12-12 20:33:45   \n",
              "6               False  2020-12-12 20:06:00   \n",
              "9               False  2020-12-12 19:30:33   \n",
              "10              False  2020-12-12 19:29:07   \n",
              "...               ...                  ...   \n",
              "228202          False  2021-11-15 09:00:15   \n",
              "228203          False  2021-11-15 08:30:26   \n",
              "228204          False  2021-11-15 08:30:15   \n",
              "228205          False  2021-11-15 08:03:03   \n",
              "228206          False  2021-11-15 08:00:15   \n",
              "\n",
              "                                                     text  \\\n",
              "0       Same folks said daikon paste could treat a cyt...   \n",
              "2       #coronavirus #SputnikV #AstraZeneca #PfizerBio...   \n",
              "6       it is a bit sad to claim the fame for success ...   \n",
              "9       #CovidVaccine \\n\\nStates will start getting #C...   \n",
              "10      while deaths are closing in on the 300,000 mar...   \n",
              "...                                                   ...   \n",
              "228202  45+ #URBAN #Bengaluru #CovidVaccine Availabili...   \n",
              "228203  18-44 #BBMP #Bengaluru #CovidVaccine Availabil...   \n",
              "228204  18-44 #URBAN #Bengaluru #CovidVaccine Availabi...   \n",
              "228205  They promote their Vaccines leaving out the st...   \n",
              "228206  45+ #URBAN #Bengaluru #CovidVaccine Availabili...   \n",
              "\n",
              "                                                 hashtags  \\\n",
              "0                                      ['PfizerBioNTech']   \n",
              "2       ['coronavirus', 'SputnikV', 'AstraZeneca', 'Pf...   \n",
              "6                                         ['vaccination']   \n",
              "9       ['CovidVaccine', 'COVID19Vaccine', 'US', 'paku...   \n",
              "10                          ['PfizerBioNTech', 'Vaccine']   \n",
              "...                                                   ...   \n",
              "228202  ['URBAN', 'Bengaluru', 'CovidVaccine', 'COVISH...   \n",
              "228203  ['BBMP', 'Bengaluru', 'CovidVaccine', 'COVISHI...   \n",
              "228204  ['URBAN', 'Bengaluru', 'CovidVaccine', 'COVISH...   \n",
              "228205                                       ['SputnikV']   \n",
              "228206  ['URBAN', 'Bengaluru', 'CovidVaccine', 'COVISH...   \n",
              "\n",
              "                     source  retweets  favorites  is_retweet  \n",
              "0       Twitter for Android         0          0       False  \n",
              "2       Twitter for Android         0          0       False  \n",
              "6           Twitter Web App         0          4       False  \n",
              "9           Twitter Web App         0          0       False  \n",
              "10          Twitter Web App         0          0       False  \n",
              "...                     ...       ...        ...         ...  \n",
              "228202               VaxBlr         0          0       False  \n",
              "228203               VaxBlr         0          1       False  \n",
              "228204               VaxBlr         0          0       False  \n",
              "228205  Twitter for Android         0          0       False  \n",
              "228206               VaxBlr         0          0       False  \n",
              "\n",
              "[116057 rows x 16 columns]"
            ],
            "text/html": [
              "\n",
              "  <div id=\"df-dc40d727-49ea-49ca-9c4c-a2a6cc56bd26\">\n",
              "    <div class=\"colab-df-container\">\n",
              "      <div>\n",
              "<style scoped>\n",
              "    .dataframe tbody tr th:only-of-type {\n",
              "        vertical-align: middle;\n",
              "    }\n",
              "\n",
              "    .dataframe tbody tr th {\n",
              "        vertical-align: top;\n",
              "    }\n",
              "\n",
              "    .dataframe thead th {\n",
              "        text-align: right;\n",
              "    }\n",
              "</style>\n",
              "<table border=\"1\" class=\"dataframe\">\n",
              "  <thead>\n",
              "    <tr style=\"text-align: right;\">\n",
              "      <th></th>\n",
              "      <th>id</th>\n",
              "      <th>user_name</th>\n",
              "      <th>user_location</th>\n",
              "      <th>user_description</th>\n",
              "      <th>user_created</th>\n",
              "      <th>user_followers</th>\n",
              "      <th>user_friends</th>\n",
              "      <th>user_favourites</th>\n",
              "      <th>user_verified</th>\n",
              "      <th>date</th>\n",
              "      <th>text</th>\n",
              "      <th>hashtags</th>\n",
              "      <th>source</th>\n",
              "      <th>retweets</th>\n",
              "      <th>favorites</th>\n",
              "      <th>is_retweet</th>\n",
              "    </tr>\n",
              "  </thead>\n",
              "  <tbody>\n",
              "    <tr>\n",
              "      <th>0</th>\n",
              "      <td>1340539111971516416</td>\n",
              "      <td>Rachel Roh</td>\n",
              "      <td>La Crescenta-Montrose, CA</td>\n",
              "      <td>Aggregator of Asian American news; scanning di...</td>\n",
              "      <td>2009-04-08 17:52:46</td>\n",
              "      <td>405</td>\n",
              "      <td>1692</td>\n",
              "      <td>3247</td>\n",
              "      <td>False</td>\n",
              "      <td>2020-12-20 06:06:44</td>\n",
              "      <td>Same folks said daikon paste could treat a cyt...</td>\n",
              "      <td>['PfizerBioNTech']</td>\n",
              "      <td>Twitter for Android</td>\n",
              "      <td>0</td>\n",
              "      <td>0</td>\n",
              "      <td>False</td>\n",
              "    </tr>\n",
              "    <tr>\n",
              "      <th>2</th>\n",
              "      <td>1337858199140118533</td>\n",
              "      <td>eli🇱🇹🇪🇺👌</td>\n",
              "      <td>Your Bed</td>\n",
              "      <td>heil, hydra 🖐☺</td>\n",
              "      <td>2020-06-25 23:30:28</td>\n",
              "      <td>10</td>\n",
              "      <td>88</td>\n",
              "      <td>155</td>\n",
              "      <td>False</td>\n",
              "      <td>2020-12-12 20:33:45</td>\n",
              "      <td>#coronavirus #SputnikV #AstraZeneca #PfizerBio...</td>\n",
              "      <td>['coronavirus', 'SputnikV', 'AstraZeneca', 'Pf...</td>\n",
              "      <td>Twitter for Android</td>\n",
              "      <td>0</td>\n",
              "      <td>0</td>\n",
              "      <td>False</td>\n",
              "    </tr>\n",
              "    <tr>\n",
              "      <th>6</th>\n",
              "      <td>1337851215875608579</td>\n",
              "      <td>Gunther Fehlinger</td>\n",
              "      <td>Austria, Ukraine and Kosovo</td>\n",
              "      <td>End North Stream 2 now - the pipeline of corru...</td>\n",
              "      <td>2013-06-10 17:49:22</td>\n",
              "      <td>2731</td>\n",
              "      <td>5001</td>\n",
              "      <td>69344</td>\n",
              "      <td>False</td>\n",
              "      <td>2020-12-12 20:06:00</td>\n",
              "      <td>it is a bit sad to claim the fame for success ...</td>\n",
              "      <td>['vaccination']</td>\n",
              "      <td>Twitter Web App</td>\n",
              "      <td>0</td>\n",
              "      <td>4</td>\n",
              "      <td>False</td>\n",
              "    </tr>\n",
              "    <tr>\n",
              "      <th>9</th>\n",
              "      <td>1337842295857623042</td>\n",
              "      <td>Ch.Amjad Ali</td>\n",
              "      <td>Islamabad</td>\n",
              "      <td>#ProudPakistani #LovePakArmy #PMIK @insafiansp...</td>\n",
              "      <td>2012-11-12 04:18:12</td>\n",
              "      <td>671</td>\n",
              "      <td>2368</td>\n",
              "      <td>20469</td>\n",
              "      <td>False</td>\n",
              "      <td>2020-12-12 19:30:33</td>\n",
              "      <td>#CovidVaccine \\n\\nStates will start getting #C...</td>\n",
              "      <td>['CovidVaccine', 'COVID19Vaccine', 'US', 'paku...</td>\n",
              "      <td>Twitter Web App</td>\n",
              "      <td>0</td>\n",
              "      <td>0</td>\n",
              "      <td>False</td>\n",
              "    </tr>\n",
              "    <tr>\n",
              "      <th>10</th>\n",
              "      <td>1337841934170255365</td>\n",
              "      <td>Tamer Yazar</td>\n",
              "      <td>Turkey-Israel</td>\n",
              "      <td>Im Market Analyst, also Editor... working (fre...</td>\n",
              "      <td>2009-09-17 16:45:16</td>\n",
              "      <td>1302</td>\n",
              "      <td>78</td>\n",
              "      <td>339</td>\n",
              "      <td>False</td>\n",
              "      <td>2020-12-12 19:29:07</td>\n",
              "      <td>while deaths are closing in on the 300,000 mar...</td>\n",
              "      <td>['PfizerBioNTech', 'Vaccine']</td>\n",
              "      <td>Twitter Web App</td>\n",
              "      <td>0</td>\n",
              "      <td>0</td>\n",
              "      <td>False</td>\n",
              "    </tr>\n",
              "    <tr>\n",
              "      <th>...</th>\n",
              "      <td>...</td>\n",
              "      <td>...</td>\n",
              "      <td>...</td>\n",
              "      <td>...</td>\n",
              "      <td>...</td>\n",
              "      <td>...</td>\n",
              "      <td>...</td>\n",
              "      <td>...</td>\n",
              "      <td>...</td>\n",
              "      <td>...</td>\n",
              "      <td>...</td>\n",
              "      <td>...</td>\n",
              "      <td>...</td>\n",
              "      <td>...</td>\n",
              "      <td>...</td>\n",
              "      <td>...</td>\n",
              "    </tr>\n",
              "    <tr>\n",
              "      <th>228202</th>\n",
              "      <td>1460170772299665408</td>\n",
              "      <td>VaxBLR</td>\n",
              "      <td>Bengaluru, India</td>\n",
              "      <td>Hourly updates on FREE and PAID 18+ and 45+ va...</td>\n",
              "      <td>2021-06-21 08:44:34</td>\n",
              "      <td>31</td>\n",
              "      <td>0</td>\n",
              "      <td>0</td>\n",
              "      <td>False</td>\n",
              "      <td>2021-11-15 09:00:15</td>\n",
              "      <td>45+ #URBAN #Bengaluru #CovidVaccine Availabili...</td>\n",
              "      <td>['URBAN', 'Bengaluru', 'CovidVaccine', 'COVISH...</td>\n",
              "      <td>VaxBlr</td>\n",
              "      <td>0</td>\n",
              "      <td>0</td>\n",
              "      <td>False</td>\n",
              "    </tr>\n",
              "    <tr>\n",
              "      <th>228203</th>\n",
              "      <td>1460163268262051841</td>\n",
              "      <td>VaxBLR</td>\n",
              "      <td>Bengaluru, India</td>\n",
              "      <td>Hourly updates on FREE and PAID 18+ and 45+ va...</td>\n",
              "      <td>2021-06-21 08:44:34</td>\n",
              "      <td>31</td>\n",
              "      <td>0</td>\n",
              "      <td>0</td>\n",
              "      <td>False</td>\n",
              "      <td>2021-11-15 08:30:26</td>\n",
              "      <td>18-44 #BBMP #Bengaluru #CovidVaccine Availabil...</td>\n",
              "      <td>['BBMP', 'Bengaluru', 'CovidVaccine', 'COVISHI...</td>\n",
              "      <td>VaxBlr</td>\n",
              "      <td>0</td>\n",
              "      <td>1</td>\n",
              "      <td>False</td>\n",
              "    </tr>\n",
              "    <tr>\n",
              "      <th>228204</th>\n",
              "      <td>1460163224221851655</td>\n",
              "      <td>VaxBLR</td>\n",
              "      <td>Bengaluru, India</td>\n",
              "      <td>Hourly updates on FREE and PAID 18+ and 45+ va...</td>\n",
              "      <td>2021-06-21 08:44:34</td>\n",
              "      <td>31</td>\n",
              "      <td>0</td>\n",
              "      <td>0</td>\n",
              "      <td>False</td>\n",
              "      <td>2021-11-15 08:30:15</td>\n",
              "      <td>18-44 #URBAN #Bengaluru #CovidVaccine Availabi...</td>\n",
              "      <td>['URBAN', 'Bengaluru', 'CovidVaccine', 'COVISH...</td>\n",
              "      <td>VaxBlr</td>\n",
              "      <td>0</td>\n",
              "      <td>0</td>\n",
              "      <td>False</td>\n",
              "    </tr>\n",
              "    <tr>\n",
              "      <th>228205</th>\n",
              "      <td>1460156376995573765</td>\n",
              "      <td>Gatti Valentino🐾</td>\n",
              "      <td>Southern  Africa</td>\n",
              "      <td>Entrepreneur, self taught cook🍲🌮 @Chelsea @Fer...</td>\n",
              "      <td>2019-08-28 10:31:43</td>\n",
              "      <td>8103</td>\n",
              "      <td>3113</td>\n",
              "      <td>45726</td>\n",
              "      <td>False</td>\n",
              "      <td>2021-11-15 08:03:03</td>\n",
              "      <td>They promote their Vaccines leaving out the st...</td>\n",
              "      <td>['SputnikV']</td>\n",
              "      <td>Twitter for Android</td>\n",
              "      <td>0</td>\n",
              "      <td>0</td>\n",
              "      <td>False</td>\n",
              "    </tr>\n",
              "    <tr>\n",
              "      <th>228206</th>\n",
              "      <td>1460155671140134912</td>\n",
              "      <td>VaxBLR</td>\n",
              "      <td>Bengaluru, India</td>\n",
              "      <td>Hourly updates on FREE and PAID 18+ and 45+ va...</td>\n",
              "      <td>2021-06-21 08:44:34</td>\n",
              "      <td>31</td>\n",
              "      <td>0</td>\n",
              "      <td>0</td>\n",
              "      <td>False</td>\n",
              "      <td>2021-11-15 08:00:15</td>\n",
              "      <td>45+ #URBAN #Bengaluru #CovidVaccine Availabili...</td>\n",
              "      <td>['URBAN', 'Bengaluru', 'CovidVaccine', 'COVISH...</td>\n",
              "      <td>VaxBlr</td>\n",
              "      <td>0</td>\n",
              "      <td>0</td>\n",
              "      <td>False</td>\n",
              "    </tr>\n",
              "  </tbody>\n",
              "</table>\n",
              "<p>116057 rows × 16 columns</p>\n",
              "</div>\n",
              "      <button class=\"colab-df-convert\" onclick=\"convertToInteractive('df-dc40d727-49ea-49ca-9c4c-a2a6cc56bd26')\"\n",
              "              title=\"Convert this dataframe to an interactive table.\"\n",
              "              style=\"display:none;\">\n",
              "        \n",
              "  <svg xmlns=\"http://www.w3.org/2000/svg\" height=\"24px\"viewBox=\"0 0 24 24\"\n",
              "       width=\"24px\">\n",
              "    <path d=\"M0 0h24v24H0V0z\" fill=\"none\"/>\n",
              "    <path d=\"M18.56 5.44l.94 2.06.94-2.06 2.06-.94-2.06-.94-.94-2.06-.94 2.06-2.06.94zm-11 1L8.5 8.5l.94-2.06 2.06-.94-2.06-.94L8.5 2.5l-.94 2.06-2.06.94zm10 10l.94 2.06.94-2.06 2.06-.94-2.06-.94-.94-2.06-.94 2.06-2.06.94z\"/><path d=\"M17.41 7.96l-1.37-1.37c-.4-.4-.92-.59-1.43-.59-.52 0-1.04.2-1.43.59L10.3 9.45l-7.72 7.72c-.78.78-.78 2.05 0 2.83L4 21.41c.39.39.9.59 1.41.59.51 0 1.02-.2 1.41-.59l7.78-7.78 2.81-2.81c.8-.78.8-2.07 0-2.86zM5.41 20L4 18.59l7.72-7.72 1.47 1.35L5.41 20z\"/>\n",
              "  </svg>\n",
              "      </button>\n",
              "      \n",
              "  <style>\n",
              "    .colab-df-container {\n",
              "      display:flex;\n",
              "      flex-wrap:wrap;\n",
              "      gap: 12px;\n",
              "    }\n",
              "\n",
              "    .colab-df-convert {\n",
              "      background-color: #E8F0FE;\n",
              "      border: none;\n",
              "      border-radius: 50%;\n",
              "      cursor: pointer;\n",
              "      display: none;\n",
              "      fill: #1967D2;\n",
              "      height: 32px;\n",
              "      padding: 0 0 0 0;\n",
              "      width: 32px;\n",
              "    }\n",
              "\n",
              "    .colab-df-convert:hover {\n",
              "      background-color: #E2EBFA;\n",
              "      box-shadow: 0px 1px 2px rgba(60, 64, 67, 0.3), 0px 1px 3px 1px rgba(60, 64, 67, 0.15);\n",
              "      fill: #174EA6;\n",
              "    }\n",
              "\n",
              "    [theme=dark] .colab-df-convert {\n",
              "      background-color: #3B4455;\n",
              "      fill: #D2E3FC;\n",
              "    }\n",
              "\n",
              "    [theme=dark] .colab-df-convert:hover {\n",
              "      background-color: #434B5C;\n",
              "      box-shadow: 0px 1px 3px 1px rgba(0, 0, 0, 0.15);\n",
              "      filter: drop-shadow(0px 1px 2px rgba(0, 0, 0, 0.3));\n",
              "      fill: #FFFFFF;\n",
              "    }\n",
              "  </style>\n",
              "\n",
              "      <script>\n",
              "        const buttonEl =\n",
              "          document.querySelector('#df-dc40d727-49ea-49ca-9c4c-a2a6cc56bd26 button.colab-df-convert');\n",
              "        buttonEl.style.display =\n",
              "          google.colab.kernel.accessAllowed ? 'block' : 'none';\n",
              "\n",
              "        async function convertToInteractive(key) {\n",
              "          const element = document.querySelector('#df-dc40d727-49ea-49ca-9c4c-a2a6cc56bd26');\n",
              "          const dataTable =\n",
              "            await google.colab.kernel.invokeFunction('convertToInteractive',\n",
              "                                                     [key], {});\n",
              "          if (!dataTable) return;\n",
              "\n",
              "          const docLinkHtml = 'Like what you see? Visit the ' +\n",
              "            '<a target=\"_blank\" href=https://colab.research.google.com/notebooks/data_table.ipynb>data table notebook</a>'\n",
              "            + ' to learn more about interactive tables.';\n",
              "          element.innerHTML = '';\n",
              "          dataTable['output_type'] = 'display_data';\n",
              "          await google.colab.output.renderOutput(dataTable, element);\n",
              "          const docLink = document.createElement('div');\n",
              "          docLink.innerHTML = docLinkHtml;\n",
              "          element.appendChild(docLink);\n",
              "        }\n",
              "      </script>\n",
              "    </div>\n",
              "  </div>\n",
              "  "
            ]
          },
          "metadata": {},
          "execution_count": 45
        }
      ]
    },
    {
      "cell_type": "code",
      "source": [
        "df_vax.info()"
      ],
      "metadata": {
        "colab": {
          "base_uri": "https://localhost:8080/"
        },
        "id": "sWANCl1gCiBm",
        "outputId": "1cf2c1b0-1552-4ff7-b392-a172db529779"
      },
      "execution_count": 46,
      "outputs": [
        {
          "output_type": "stream",
          "name": "stdout",
          "text": [
            "<class 'pandas.core.frame.DataFrame'>\n",
            "Int64Index: 116057 entries, 0 to 228206\n",
            "Data columns (total 16 columns):\n",
            " #   Column            Non-Null Count   Dtype \n",
            "---  ------            --------------   ----- \n",
            " 0   id                116057 non-null  int64 \n",
            " 1   user_name         116057 non-null  object\n",
            " 2   user_location     116057 non-null  object\n",
            " 3   user_description  116057 non-null  object\n",
            " 4   user_created      116057 non-null  object\n",
            " 5   user_followers    116057 non-null  int64 \n",
            " 6   user_friends      116057 non-null  int64 \n",
            " 7   user_favourites   116057 non-null  int64 \n",
            " 8   user_verified     116057 non-null  bool  \n",
            " 9   date              116057 non-null  object\n",
            " 10  text              116057 non-null  object\n",
            " 11  hashtags          116057 non-null  object\n",
            " 12  source            116057 non-null  object\n",
            " 13  retweets          116057 non-null  int64 \n",
            " 14  favorites         116057 non-null  int64 \n",
            " 15  is_retweet        116057 non-null  bool  \n",
            "dtypes: bool(2), int64(6), object(8)\n",
            "memory usage: 13.5+ MB\n"
          ]
        }
      ]
    },
    {
      "cell_type": "code",
      "source": [
        "vax_tweets= df_vax['text']"
      ],
      "metadata": {
        "id": "oFb7VGHmCMsg"
      },
      "execution_count": 49,
      "outputs": []
    },
    {
      "cell_type": "code",
      "source": [
        "input_ids = []\n",
        "attention_masks = []\n",
        "\n",
        "for tweet in vax_tweets:\n",
        "    \n",
        "    url_pattern = re.compile(r'https?://\\S+|www\\.\\S+')\n",
        "    tweet = url_pattern.sub(r'', tweet)\n",
        "    tweet = re.sub('\\S*@\\S*\\s?', '', tweet)\n",
        "    tweet = re.sub('\\s+', ' ', tweet)\n",
        "    tweet = re.sub(\"\\'\", \"\", tweet)\n",
        "    \n",
        "    encoded_dict = tokenizer.encode_plus(\n",
        "                        tweet,                      \n",
        "                        add_special_tokens = True, \n",
        "                        max_length = 110,           \n",
        "                        pad_to_max_length = True,\n",
        "                        return_attention_mask = True,   \n",
        "                        return_tensors = 'pt',     \n",
        "                   )\n",
        "     \n",
        "    input_ids.append(encoded_dict['input_ids'])\n",
        "    attention_masks.append(encoded_dict['attention_mask'])\n",
        "\n",
        "\n",
        "input_ids = torch.cat(input_ids, dim=0)\n",
        "attention_masks = torch.cat(attention_masks, dim=0)"
      ],
      "metadata": {
        "colab": {
          "base_uri": "https://localhost:8080/"
        },
        "id": "Hdj5HbzECNfq",
        "outputId": "4ffdf2b9-c96e-4777-8b58-c814e793071b"
      },
      "execution_count": 50,
      "outputs": [
        {
          "output_type": "stream",
          "name": "stderr",
          "text": [
            "/usr/local/lib/python3.8/dist-packages/transformers/tokenization_utils_base.py:2336: FutureWarning: The `pad_to_max_length` argument is deprecated and will be removed in a future version, use `padding=True` or `padding='longest'` to pad to the longest sequence in the batch, or use `padding='max_length'` to pad to a max length. In this case, you can give a specific length with `max_length` (e.g. `max_length=45`) or leave max_length to None to pad to the maximal input size of the model (e.g. 512 for Bert).\n",
            "  warnings.warn(\n"
          ]
        }
      ]
    },
    {
      "cell_type": "code",
      "source": [
        "vax_dataset= TensorDataset(input_ids, attention_masks)\n",
        "\n",
        "batch_size = 32\n",
        "\n",
        "vax_dataloader = DataLoader(\n",
        "            vax_dataset,  \n",
        "            sampler = SequentialSampler(vax_tweets),     #Sequential Sampling\n",
        "            batch_size = batch_size \n",
        "        )"
      ],
      "metadata": {
        "id": "4pyI-4beCRJ-"
      },
      "execution_count": 51,
      "outputs": []
    },
    {
      "cell_type": "code",
      "source": [
        "print('Predicting labels for {:,} vaccine tweets...'.format(len(input_ids)))\n",
        "\n",
        "model.eval()\n",
        "\n",
        "predictions = []\n",
        "\n",
        "for batch in vax_dataloader:\n",
        " \n",
        "  batch = tuple(t.to(device) for t in batch)\n",
        "  \n",
        "  b_input_ids, b_input_mask = batch\n",
        "\n",
        "  with torch.no_grad():\n",
        "\n",
        "      result = model(b_input_ids, \n",
        "                     token_type_ids=None, \n",
        "                     attention_mask=b_input_mask,\n",
        "                     return_dict=True)\n",
        "\n",
        "  logits = result.logits\n",
        "\n",
        "  logits = logits.detach().cpu().numpy()\n",
        "  \n",
        "  logits=np.argmax(logits,axis=1)\n",
        "  for i in range(len(logits)):\n",
        "    predictions.append(logits[i])\n",
        "    \n",
        "\n",
        "print('    DONE.')"
      ],
      "metadata": {
        "colab": {
          "base_uri": "https://localhost:8080/"
        },
        "id": "s3M_SSRACW5V",
        "outputId": "3feede3e-c804-4c7e-cada-99b1245f4587"
      },
      "execution_count": 52,
      "outputs": [
        {
          "output_type": "stream",
          "name": "stdout",
          "text": [
            "Predicting labels for 116,057 vaccine tweets...\n",
            "    DONE.\n"
          ]
        }
      ]
    },
    {
      "cell_type": "code",
      "source": [
        "df_vax['Sentiment'] = predictions\n",
        "vax= df_vax.drop(['user_name','user_description','user_created','user_followers','user_friends','user_favourites','source','is_retweet'],axis=1)\n",
        "vax.head()"
      ],
      "metadata": {
        "colab": {
          "base_uri": "https://localhost:8080/",
          "height": 337
        },
        "id": "tW7vz3j6CXak",
        "outputId": "a5b207f7-1467-4ee7-9075-4fe421286a3d"
      },
      "execution_count": 56,
      "outputs": [
        {
          "output_type": "execute_result",
          "data": {
            "text/plain": [
              "                     id                user_location  user_verified  \\\n",
              "0   1340539111971516416    La Crescenta-Montrose, CA          False   \n",
              "2   1337858199140118533                     Your Bed          False   \n",
              "6   1337851215875608579  Austria, Ukraine and Kosovo          False   \n",
              "9   1337842295857623042                    Islamabad          False   \n",
              "10  1337841934170255365                Turkey-Israel          False   \n",
              "\n",
              "                   date                                               text  \\\n",
              "0   2020-12-20 06:06:44  Same folks said daikon paste could treat a cyt...   \n",
              "2   2020-12-12 20:33:45  #coronavirus #SputnikV #AstraZeneca #PfizerBio...   \n",
              "6   2020-12-12 20:06:00  it is a bit sad to claim the fame for success ...   \n",
              "9   2020-12-12 19:30:33  #CovidVaccine \\n\\nStates will start getting #C...   \n",
              "10  2020-12-12 19:29:07  while deaths are closing in on the 300,000 mar...   \n",
              "\n",
              "                                             hashtags  retweets  favorites  \\\n",
              "0                                  ['PfizerBioNTech']         0          0   \n",
              "2   ['coronavirus', 'SputnikV', 'AstraZeneca', 'Pf...         0          0   \n",
              "6                                     ['vaccination']         0          4   \n",
              "9   ['CovidVaccine', 'COVID19Vaccine', 'US', 'paku...         0          0   \n",
              "10                      ['PfizerBioNTech', 'Vaccine']         0          0   \n",
              "\n",
              "    Sentiment  \n",
              "0           1  \n",
              "2           1  \n",
              "6           0  \n",
              "9           1  \n",
              "10          0  "
            ],
            "text/html": [
              "\n",
              "  <div id=\"df-71401e06-c02a-4a8b-9136-8b99b81f3796\">\n",
              "    <div class=\"colab-df-container\">\n",
              "      <div>\n",
              "<style scoped>\n",
              "    .dataframe tbody tr th:only-of-type {\n",
              "        vertical-align: middle;\n",
              "    }\n",
              "\n",
              "    .dataframe tbody tr th {\n",
              "        vertical-align: top;\n",
              "    }\n",
              "\n",
              "    .dataframe thead th {\n",
              "        text-align: right;\n",
              "    }\n",
              "</style>\n",
              "<table border=\"1\" class=\"dataframe\">\n",
              "  <thead>\n",
              "    <tr style=\"text-align: right;\">\n",
              "      <th></th>\n",
              "      <th>id</th>\n",
              "      <th>user_location</th>\n",
              "      <th>user_verified</th>\n",
              "      <th>date</th>\n",
              "      <th>text</th>\n",
              "      <th>hashtags</th>\n",
              "      <th>retweets</th>\n",
              "      <th>favorites</th>\n",
              "      <th>Sentiment</th>\n",
              "    </tr>\n",
              "  </thead>\n",
              "  <tbody>\n",
              "    <tr>\n",
              "      <th>0</th>\n",
              "      <td>1340539111971516416</td>\n",
              "      <td>La Crescenta-Montrose, CA</td>\n",
              "      <td>False</td>\n",
              "      <td>2020-12-20 06:06:44</td>\n",
              "      <td>Same folks said daikon paste could treat a cyt...</td>\n",
              "      <td>['PfizerBioNTech']</td>\n",
              "      <td>0</td>\n",
              "      <td>0</td>\n",
              "      <td>1</td>\n",
              "    </tr>\n",
              "    <tr>\n",
              "      <th>2</th>\n",
              "      <td>1337858199140118533</td>\n",
              "      <td>Your Bed</td>\n",
              "      <td>False</td>\n",
              "      <td>2020-12-12 20:33:45</td>\n",
              "      <td>#coronavirus #SputnikV #AstraZeneca #PfizerBio...</td>\n",
              "      <td>['coronavirus', 'SputnikV', 'AstraZeneca', 'Pf...</td>\n",
              "      <td>0</td>\n",
              "      <td>0</td>\n",
              "      <td>1</td>\n",
              "    </tr>\n",
              "    <tr>\n",
              "      <th>6</th>\n",
              "      <td>1337851215875608579</td>\n",
              "      <td>Austria, Ukraine and Kosovo</td>\n",
              "      <td>False</td>\n",
              "      <td>2020-12-12 20:06:00</td>\n",
              "      <td>it is a bit sad to claim the fame for success ...</td>\n",
              "      <td>['vaccination']</td>\n",
              "      <td>0</td>\n",
              "      <td>4</td>\n",
              "      <td>0</td>\n",
              "    </tr>\n",
              "    <tr>\n",
              "      <th>9</th>\n",
              "      <td>1337842295857623042</td>\n",
              "      <td>Islamabad</td>\n",
              "      <td>False</td>\n",
              "      <td>2020-12-12 19:30:33</td>\n",
              "      <td>#CovidVaccine \\n\\nStates will start getting #C...</td>\n",
              "      <td>['CovidVaccine', 'COVID19Vaccine', 'US', 'paku...</td>\n",
              "      <td>0</td>\n",
              "      <td>0</td>\n",
              "      <td>1</td>\n",
              "    </tr>\n",
              "    <tr>\n",
              "      <th>10</th>\n",
              "      <td>1337841934170255365</td>\n",
              "      <td>Turkey-Israel</td>\n",
              "      <td>False</td>\n",
              "      <td>2020-12-12 19:29:07</td>\n",
              "      <td>while deaths are closing in on the 300,000 mar...</td>\n",
              "      <td>['PfizerBioNTech', 'Vaccine']</td>\n",
              "      <td>0</td>\n",
              "      <td>0</td>\n",
              "      <td>0</td>\n",
              "    </tr>\n",
              "  </tbody>\n",
              "</table>\n",
              "</div>\n",
              "      <button class=\"colab-df-convert\" onclick=\"convertToInteractive('df-71401e06-c02a-4a8b-9136-8b99b81f3796')\"\n",
              "              title=\"Convert this dataframe to an interactive table.\"\n",
              "              style=\"display:none;\">\n",
              "        \n",
              "  <svg xmlns=\"http://www.w3.org/2000/svg\" height=\"24px\"viewBox=\"0 0 24 24\"\n",
              "       width=\"24px\">\n",
              "    <path d=\"M0 0h24v24H0V0z\" fill=\"none\"/>\n",
              "    <path d=\"M18.56 5.44l.94 2.06.94-2.06 2.06-.94-2.06-.94-.94-2.06-.94 2.06-2.06.94zm-11 1L8.5 8.5l.94-2.06 2.06-.94-2.06-.94L8.5 2.5l-.94 2.06-2.06.94zm10 10l.94 2.06.94-2.06 2.06-.94-2.06-.94-.94-2.06-.94 2.06-2.06.94z\"/><path d=\"M17.41 7.96l-1.37-1.37c-.4-.4-.92-.59-1.43-.59-.52 0-1.04.2-1.43.59L10.3 9.45l-7.72 7.72c-.78.78-.78 2.05 0 2.83L4 21.41c.39.39.9.59 1.41.59.51 0 1.02-.2 1.41-.59l7.78-7.78 2.81-2.81c.8-.78.8-2.07 0-2.86zM5.41 20L4 18.59l7.72-7.72 1.47 1.35L5.41 20z\"/>\n",
              "  </svg>\n",
              "      </button>\n",
              "      \n",
              "  <style>\n",
              "    .colab-df-container {\n",
              "      display:flex;\n",
              "      flex-wrap:wrap;\n",
              "      gap: 12px;\n",
              "    }\n",
              "\n",
              "    .colab-df-convert {\n",
              "      background-color: #E8F0FE;\n",
              "      border: none;\n",
              "      border-radius: 50%;\n",
              "      cursor: pointer;\n",
              "      display: none;\n",
              "      fill: #1967D2;\n",
              "      height: 32px;\n",
              "      padding: 0 0 0 0;\n",
              "      width: 32px;\n",
              "    }\n",
              "\n",
              "    .colab-df-convert:hover {\n",
              "      background-color: #E2EBFA;\n",
              "      box-shadow: 0px 1px 2px rgba(60, 64, 67, 0.3), 0px 1px 3px 1px rgba(60, 64, 67, 0.15);\n",
              "      fill: #174EA6;\n",
              "    }\n",
              "\n",
              "    [theme=dark] .colab-df-convert {\n",
              "      background-color: #3B4455;\n",
              "      fill: #D2E3FC;\n",
              "    }\n",
              "\n",
              "    [theme=dark] .colab-df-convert:hover {\n",
              "      background-color: #434B5C;\n",
              "      box-shadow: 0px 1px 3px 1px rgba(0, 0, 0, 0.15);\n",
              "      filter: drop-shadow(0px 1px 2px rgba(0, 0, 0, 0.3));\n",
              "      fill: #FFFFFF;\n",
              "    }\n",
              "  </style>\n",
              "\n",
              "      <script>\n",
              "        const buttonEl =\n",
              "          document.querySelector('#df-71401e06-c02a-4a8b-9136-8b99b81f3796 button.colab-df-convert');\n",
              "        buttonEl.style.display =\n",
              "          google.colab.kernel.accessAllowed ? 'block' : 'none';\n",
              "\n",
              "        async function convertToInteractive(key) {\n",
              "          const element = document.querySelector('#df-71401e06-c02a-4a8b-9136-8b99b81f3796');\n",
              "          const dataTable =\n",
              "            await google.colab.kernel.invokeFunction('convertToInteractive',\n",
              "                                                     [key], {});\n",
              "          if (!dataTable) return;\n",
              "\n",
              "          const docLinkHtml = 'Like what you see? Visit the ' +\n",
              "            '<a target=\"_blank\" href=https://colab.research.google.com/notebooks/data_table.ipynb>data table notebook</a>'\n",
              "            + ' to learn more about interactive tables.';\n",
              "          element.innerHTML = '';\n",
              "          dataTable['output_type'] = 'display_data';\n",
              "          await google.colab.output.renderOutput(dataTable, element);\n",
              "          const docLink = document.createElement('div');\n",
              "          docLink.innerHTML = docLinkHtml;\n",
              "          element.appendChild(docLink);\n",
              "        }\n",
              "      </script>\n",
              "    </div>\n",
              "  </div>\n",
              "  "
            ]
          },
          "metadata": {},
          "execution_count": 56
        }
      ]
    },
    {
      "cell_type": "code",
      "source": [
        "vax['Sentiment']=vax['Sentiment'].map({0:'negative',1:'neutral',2:'positive'})"
      ],
      "metadata": {
        "id": "sRIsvQpBCsQl"
      },
      "execution_count": 57,
      "outputs": []
    },
    {
      "cell_type": "code",
      "source": [
        "vax['Sentiment'].value_counts(normalize=True).plot.bar()"
      ],
      "metadata": {
        "colab": {
          "base_uri": "https://localhost:8080/",
          "height": 333
        },
        "id": "27gOgwoDCvCp",
        "outputId": "3083c63d-e6f9-442a-bab2-47fb31b2ff01"
      },
      "execution_count": 58,
      "outputs": [
        {
          "output_type": "execute_result",
          "data": {
            "text/plain": [
              "<matplotlib.axes._subplots.AxesSubplot at 0x7f82b71e8f70>"
            ]
          },
          "metadata": {},
          "execution_count": 58
        },
        {
          "output_type": "display_data",
          "data": {
            "text/plain": [
              "<Figure size 432x288 with 1 Axes>"
            ],
            "image/png": "[encoded data removed]"
          },
          "metadata": {}
        }
      ]
    },
    {
      "cell_type": "code",
      "source": [
        "vax['date'] = pd.to_datetime(vax['date'], errors='coerce').dt.date\n",
        "vax['Sentiment'] = vax['Sentiment'].map({'negative':-1,'neutral':0,'positive':1})"
      ],
      "metadata": {
        "id": "crnXRl5iC5gL"
      },
      "execution_count": 59,
      "outputs": []
    },
    {
      "cell_type": "code",
      "source": [
        "vax"
      ],
      "metadata": {
        "colab": {
          "base_uri": "https://localhost:8080/",
          "height": 641
        },
        "id": "CRvHST3di_Jh",
        "outputId": "c38803fd-461d-4516-eede-e01b4b8a638f"
      },
      "execution_count": 60,
      "outputs": [
        {
          "output_type": "execute_result",
          "data": {
            "text/plain": [
              "                         id                user_location  user_verified  \\\n",
              "0       1340539111971516416    La Crescenta-Montrose, CA          False   \n",
              "2       1337858199140118533                     Your Bed          False   \n",
              "6       1337851215875608579  Austria, Ukraine and Kosovo          False   \n",
              "9       1337842295857623042                    Islamabad          False   \n",
              "10      1337841934170255365                Turkey-Israel          False   \n",
              "...                     ...                          ...            ...   \n",
              "228202  1460170772299665408             Bengaluru, India          False   \n",
              "228203  1460163268262051841             Bengaluru, India          False   \n",
              "228204  1460163224221851655             Bengaluru, India          False   \n",
              "228205  1460156376995573765            Southern  Africa           False   \n",
              "228206  1460155671140134912             Bengaluru, India          False   \n",
              "\n",
              "              date                                               text  \\\n",
              "0       2020-12-20  Same folks said daikon paste could treat a cyt...   \n",
              "2       2020-12-12  #coronavirus #SputnikV #AstraZeneca #PfizerBio...   \n",
              "6       2020-12-12  it is a bit sad to claim the fame for success ...   \n",
              "9       2020-12-12  #CovidVaccine \\n\\nStates will start getting #C...   \n",
              "10      2020-12-12  while deaths are closing in on the 300,000 mar...   \n",
              "...            ...                                                ...   \n",
              "228202  2021-11-15  45+ #URBAN #Bengaluru #CovidVaccine Availabili...   \n",
              "228203  2021-11-15  18-44 #BBMP #Bengaluru #CovidVaccine Availabil...   \n",
              "228204  2021-11-15  18-44 #URBAN #Bengaluru #CovidVaccine Availabi...   \n",
              "228205  2021-11-15  They promote their Vaccines leaving out the st...   \n",
              "228206  2021-11-15  45+ #URBAN #Bengaluru #CovidVaccine Availabili...   \n",
              "\n",
              "                                                 hashtags  retweets  \\\n",
              "0                                      ['PfizerBioNTech']         0   \n",
              "2       ['coronavirus', 'SputnikV', 'AstraZeneca', 'Pf...         0   \n",
              "6                                         ['vaccination']         0   \n",
              "9       ['CovidVaccine', 'COVID19Vaccine', 'US', 'paku...         0   \n",
              "10                          ['PfizerBioNTech', 'Vaccine']         0   \n",
              "...                                                   ...       ...   \n",
              "228202  ['URBAN', 'Bengaluru', 'CovidVaccine', 'COVISH...         0   \n",
              "228203  ['BBMP', 'Bengaluru', 'CovidVaccine', 'COVISHI...         0   \n",
              "228204  ['URBAN', 'Bengaluru', 'CovidVaccine', 'COVISH...         0   \n",
              "228205                                       ['SputnikV']         0   \n",
              "228206  ['URBAN', 'Bengaluru', 'CovidVaccine', 'COVISH...         0   \n",
              "\n",
              "        favorites  Sentiment  \n",
              "0               0          0  \n",
              "2               0          0  \n",
              "6               4         -1  \n",
              "9               0          0  \n",
              "10              0         -1  \n",
              "...           ...        ...  \n",
              "228202          0          0  \n",
              "228203          1          0  \n",
              "228204          0          0  \n",
              "228205          0          0  \n",
              "228206          0          0  \n",
              "\n",
              "[116057 rows x 9 columns]"
            ],
            "text/html": [
              "\n",
              "  <div id=\"df-63f8261e-f5f0-48e6-9db9-9bc8823ca350\">\n",
              "    <div class=\"colab-df-container\">\n",
              "      <div>\n",
              "<style scoped>\n",
              "    .dataframe tbody tr th:only-of-type {\n",
              "        vertical-align: middle;\n",
              "    }\n",
              "\n",
              "    .dataframe tbody tr th {\n",
              "        vertical-align: top;\n",
              "    }\n",
              "\n",
              "    .dataframe thead th {\n",
              "        text-align: right;\n",
              "    }\n",
              "</style>\n",
              "<table border=\"1\" class=\"dataframe\">\n",
              "  <thead>\n",
              "    <tr style=\"text-align: right;\">\n",
              "      <th></th>\n",
              "      <th>id</th>\n",
              "      <th>user_location</th>\n",
              "      <th>user_verified</th>\n",
              "      <th>date</th>\n",
              "      <th>text</th>\n",
              "      <th>hashtags</th>\n",
              "      <th>retweets</th>\n",
              "      <th>favorites</th>\n",
              "      <th>Sentiment</th>\n",
              "    </tr>\n",
              "  </thead>\n",
              "  <tbody>\n",
              "    <tr>\n",
              "      <th>0</th>\n",
              "      <td>1340539111971516416</td>\n",
              "      <td>La Crescenta-Montrose, CA</td>\n",
              "      <td>False</td>\n",
              "      <td>2020-12-20</td>\n",
              "      <td>Same folks said daikon paste could treat a cyt...</td>\n",
              "      <td>['PfizerBioNTech']</td>\n",
              "      <td>0</td>\n",
              "      <td>0</td>\n",
              "      <td>0</td>\n",
              "    </tr>\n",
              "    <tr>\n",
              "      <th>2</th>\n",
              "      <td>1337858199140118533</td>\n",
              "      <td>Your Bed</td>\n",
              "      <td>False</td>\n",
              "      <td>2020-12-12</td>\n",
              "      <td>#coronavirus #SputnikV #AstraZeneca #PfizerBio...</td>\n",
              "      <td>['coronavirus', 'SputnikV', 'AstraZeneca', 'Pf...</td>\n",
              "      <td>0</td>\n",
              "      <td>0</td>\n",
              "      <td>0</td>\n",
              "    </tr>\n",
              "    <tr>\n",
              "      <th>6</th>\n",
              "      <td>1337851215875608579</td>\n",
              "      <td>Austria, Ukraine and Kosovo</td>\n",
              "      <td>False</td>\n",
              "      <td>2020-12-12</td>\n",
              "      <td>it is a bit sad to claim the fame for success ...</td>\n",
              "      <td>['vaccination']</td>\n",
              "      <td>0</td>\n",
              "      <td>4</td>\n",
              "      <td>-1</td>\n",
              "    </tr>\n",
              "    <tr>\n",
              "      <th>9</th>\n",
              "      <td>1337842295857623042</td>\n",
              "      <td>Islamabad</td>\n",
              "      <td>False</td>\n",
              "      <td>2020-12-12</td>\n",
              "      <td>#CovidVaccine \\n\\nStates will start getting #C...</td>\n",
              "      <td>['CovidVaccine', 'COVID19Vaccine', 'US', 'paku...</td>\n",
              "      <td>0</td>\n",
              "      <td>0</td>\n",
              "      <td>0</td>\n",
              "    </tr>\n",
              "    <tr>\n",
              "      <th>10</th>\n",
              "      <td>1337841934170255365</td>\n",
              "      <td>Turkey-Israel</td>\n",
              "      <td>False</td>\n",
              "      <td>2020-12-12</td>\n",
              "      <td>while deaths are closing in on the 300,000 mar...</td>\n",
              "      <td>['PfizerBioNTech', 'Vaccine']</td>\n",
              "      <td>0</td>\n",
              "      <td>0</td>\n",
              "      <td>-1</td>\n",
              "    </tr>\n",
              "    <tr>\n",
              "      <th>...</th>\n",
              "      <td>...</td>\n",
              "      <td>...</td>\n",
              "      <td>...</td>\n",
              "      <td>...</td>\n",
              "      <td>...</td>\n",
              "      <td>...</td>\n",
              "      <td>...</td>\n",
              "      <td>...</td>\n",
              "      <td>...</td>\n",
              "    </tr>\n",
              "    <tr>\n",
              "      <th>228202</th>\n",
              "      <td>1460170772299665408</td>\n",
              "      <td>Bengaluru, India</td>\n",
              "      <td>False</td>\n",
              "      <td>2021-11-15</td>\n",
              "      <td>45+ #URBAN #Bengaluru #CovidVaccine Availabili...</td>\n",
              "      <td>['URBAN', 'Bengaluru', 'CovidVaccine', 'COVISH...</td>\n",
              "      <td>0</td>\n",
              "      <td>0</td>\n",
              "      <td>0</td>\n",
              "    </tr>\n",
              "    <tr>\n",
              "      <th>228203</th>\n",
              "      <td>1460163268262051841</td>\n",
              "      <td>Bengaluru, India</td>\n",
              "      <td>False</td>\n",
              "      <td>2021-11-15</td>\n",
              "      <td>18-44 #BBMP #Bengaluru #CovidVaccine Availabil...</td>\n",
              "      <td>['BBMP', 'Bengaluru', 'CovidVaccine', 'COVISHI...</td>\n",
              "      <td>0</td>\n",
              "      <td>1</td>\n",
              "      <td>0</td>\n",
              "    </tr>\n",
              "    <tr>\n",
              "      <th>228204</th>\n",
              "      <td>1460163224221851655</td>\n",
              "      <td>Bengaluru, India</td>\n",
              "      <td>False</td>\n",
              "      <td>2021-11-15</td>\n",
              "      <td>18-44 #URBAN #Bengaluru #CovidVaccine Availabi...</td>\n",
              "      <td>['URBAN', 'Bengaluru', 'CovidVaccine', 'COVISH...</td>\n",
              "      <td>0</td>\n",
              "      <td>0</td>\n",
              "      <td>0</td>\n",
              "    </tr>\n",
              "    <tr>\n",
              "      <th>228205</th>\n",
              "      <td>1460156376995573765</td>\n",
              "      <td>Southern  Africa</td>\n",
              "      <td>False</td>\n",
              "      <td>2021-11-15</td>\n",
              "      <td>They promote their Vaccines leaving out the st...</td>\n",
              "      <td>['SputnikV']</td>\n",
              "      <td>0</td>\n",
              "      <td>0</td>\n",
              "      <td>0</td>\n",
              "    </tr>\n",
              "    <tr>\n",
              "      <th>228206</th>\n",
              "      <td>1460155671140134912</td>\n",
              "      <td>Bengaluru, India</td>\n",
              "      <td>False</td>\n",
              "      <td>2021-11-15</td>\n",
              "      <td>45+ #URBAN #Bengaluru #CovidVaccine Availabili...</td>\n",
              "      <td>['URBAN', 'Bengaluru', 'CovidVaccine', 'COVISH...</td>\n",
              "      <td>0</td>\n",
              "      <td>0</td>\n",
              "      <td>0</td>\n",
              "    </tr>\n",
              "  </tbody>\n",
              "</table>\n",
              "<p>116057 rows × 9 columns</p>\n",
              "</div>\n",
              "      <button class=\"colab-df-convert\" onclick=\"convertToInteractive('df-63f8261e-f5f0-48e6-9db9-9bc8823ca350')\"\n",
              "              title=\"Convert this dataframe to an interactive table.\"\n",
              "              style=\"display:none;\">\n",
              "        \n",
              "  <svg xmlns=\"http://www.w3.org/2000/svg\" height=\"24px\"viewBox=\"0 0 24 24\"\n",
              "       width=\"24px\">\n",
              "    <path d=\"M0 0h24v24H0V0z\" fill=\"none\"/>\n",
              "    <path d=\"M18.56 5.44l.94 2.06.94-2.06 2.06-.94-2.06-.94-.94-2.06-.94 2.06-2.06.94zm-11 1L8.5 8.5l.94-2.06 2.06-.94-2.06-.94L8.5 2.5l-.94 2.06-2.06.94zm10 10l.94 2.06.94-2.06 2.06-.94-2.06-.94-.94-2.06-.94 2.06-2.06.94z\"/><path d=\"M17.41 7.96l-1.37-1.37c-.4-.4-.92-.59-1.43-.59-.52 0-1.04.2-1.43.59L10.3 9.45l-7.72 7.72c-.78.78-.78 2.05 0 2.83L4 21.41c.39.39.9.59 1.41.59.51 0 1.02-.2 1.41-.59l7.78-7.78 2.81-2.81c.8-.78.8-2.07 0-2.86zM5.41 20L4 18.59l7.72-7.72 1.47 1.35L5.41 20z\"/>\n",
              "  </svg>\n",
              "      </button>\n",
              "      \n",
              "  <style>\n",
              "    .colab-df-container {\n",
              "      display:flex;\n",
              "      flex-wrap:wrap;\n",
              "      gap: 12px;\n",
              "    }\n",
              "\n",
              "    .colab-df-convert {\n",
              "      background-color: #E8F0FE;\n",
              "      border: none;\n",
              "      border-radius: 50%;\n",
              "      cursor: pointer;\n",
              "      display: none;\n",
              "      fill: #1967D2;\n",
              "      height: 32px;\n",
              "      padding: 0 0 0 0;\n",
              "      width: 32px;\n",
              "    }\n",
              "\n",
              "    .colab-df-convert:hover {\n",
              "      background-color: #E2EBFA;\n",
              "      box-shadow: 0px 1px 2px rgba(60, 64, 67, 0.3), 0px 1px 3px 1px rgba(60, 64, 67, 0.15);\n",
              "      fill: #174EA6;\n",
              "    }\n",
              "\n",
              "    [theme=dark] .colab-df-convert {\n",
              "      background-color: #3B4455;\n",
              "      fill: #D2E3FC;\n",
              "    }\n",
              "\n",
              "    [theme=dark] .colab-df-convert:hover {\n",
              "      background-color: #434B5C;\n",
              "      box-shadow: 0px 1px 3px 1px rgba(0, 0, 0, 0.15);\n",
              "      filter: drop-shadow(0px 1px 2px rgba(0, 0, 0, 0.3));\n",
              "      fill: #FFFFFF;\n",
              "    }\n",
              "  </style>\n",
              "\n",
              "      <script>\n",
              "        const buttonEl =\n",
              "          document.querySelector('#df-63f8261e-f5f0-48e6-9db9-9bc8823ca350 button.colab-df-convert');\n",
              "        buttonEl.style.display =\n",
              "          google.colab.kernel.accessAllowed ? 'block' : 'none';\n",
              "\n",
              "        async function convertToInteractive(key) {\n",
              "          const element = document.querySelector('#df-63f8261e-f5f0-48e6-9db9-9bc8823ca350');\n",
              "          const dataTable =\n",
              "            await google.colab.kernel.invokeFunction('convertToInteractive',\n",
              "                                                     [key], {});\n",
              "          if (!dataTable) return;\n",
              "\n",
              "          const docLinkHtml = 'Like what you see? Visit the ' +\n",
              "            '<a target=\"_blank\" href=https://colab.research.google.com/notebooks/data_table.ipynb>data table notebook</a>'\n",
              "            + ' to learn more about interactive tables.';\n",
              "          element.innerHTML = '';\n",
              "          dataTable['output_type'] = 'display_data';\n",
              "          await google.colab.output.renderOutput(dataTable, element);\n",
              "          const docLink = document.createElement('div');\n",
              "          docLink.innerHTML = docLinkHtml;\n",
              "          element.appendChild(docLink);\n",
              "        }\n",
              "      </script>\n",
              "    </div>\n",
              "  </div>\n",
              "  "
            ]
          },
          "metadata": {},
          "execution_count": 60
        }
      ]
    },
    {
      "cell_type": "code",
      "source": [
        "vax.to_csv('vax_data_cleaned.csv', index=False)"
      ],
      "metadata": {
        "id": "Vq1e_oENjCRS"
      },
      "execution_count": 61,
      "outputs": []
    },
    {
      "cell_type": "code",
      "source": [
        "all_vax = ['covaxin', 'sinopharm', 'sinovac', 'moderna', 'pfizer', 'biontech', 'oxford', 'astrazeneca', 'sputnik']\n",
        "\n",
        "vax_sentiment = pd.DataFrame()\n",
        "vax_sentiment['Vaccine']=all_vax\n",
        "sentiments=list()"
      ],
      "metadata": {
        "id": "T2QSixeYC_Nt"
      },
      "execution_count": null,
      "outputs": []
    },
    {
      "cell_type": "code",
      "source": [],
      "metadata": {
        "id": "aDYolHgYDEYr"
      },
      "execution_count": null,
      "outputs": []
    }
  ]
}